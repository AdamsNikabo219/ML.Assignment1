{
  "nbformat": 4,
  "nbformat_minor": 0,
  "metadata": {
    "colab": {
      "provenance": [],
      "authorship_tag": "ABX9TyOPjMW9m7nAc/c71L33P89x",
      "include_colab_link": true
    },
    "kernelspec": {
      "name": "python3",
      "display_name": "Python 3"
    },
    "language_info": {
      "name": "python"
    }
  },
  "cells": [
    {
      "cell_type": "markdown",
      "metadata": {
        "id": "view-in-github",
        "colab_type": "text"
      },
      "source": [
        "<a href=\"https://colab.research.google.com/github/PeterYves/DIC-ML-Assignmnent/blob/main/sprint__ensemble_learning.ipynb\" target=\"_parent\"><img src=\"https://colab.research.google.com/assets/colab-badge.svg\" alt=\"Open In Colab\"/></a>"
      ]
    },
    {
      "cell_type": "markdown",
      "source": [
        "## **Ensemble learning**\n",
        "\n",
        "---\n",
        "\n",
        "- **Blending**\n",
        "- **Bagging**\n",
        "- **Stacking**"
      ],
      "metadata": {
        "id": "HIlzIvt-_5vQ"
      }
    },
    {
      "cell_type": "code",
      "execution_count": 7,
      "metadata": {
        "id": "TzFN_aQWpWGR"
      },
      "outputs": [],
      "source": [
        "# importing dependencies\n",
        "import numpy as np\n",
        "import pandas as pd\n",
        "from sklearn.linear_model import LinearRegression\n",
        "from sklearn.preprocessing import StandardScaler\n",
        "from sklearn.svm import SVR\n",
        "from sklearn.pipeline import make_pipeline\n",
        "from sklearn.tree import DecisionTreeRegressor\n",
        "from sklearn.model_selection import train_test_split\n",
        "from sklearn.metrics import mean_squared_error\n",
        "from sklearn.metrics import accuracy_score\n",
        "from sklearn.linear_model import LogisticRegression\n",
        "from sklearn.naive_bayes import GaussianNB\n",
        "from sklearn.ensemble import RandomForestClassifier\n",
        "from sklearn.ensemble import VotingClassifier\n",
        "from sklearn.neighbors import KNeighborsClassifier\n",
        "from sklearn import datasets"
      ]
    },
    {
      "cell_type": "code",
      "source": [
        "# importing dataset\n",
        "data=pd.read_csv('train.csv').select_dtypes(include='number')\n",
        "\n",
        "# handling of missing values\n",
        "data.isnull().sum()\n",
        "data = data.fillna(data.mean())\n",
        "data.head()"
      ],
      "metadata": {
        "colab": {
          "base_uri": "https://localhost:8080/",
          "height": 299
        },
        "id": "WpAAdNDpgNpO",
        "outputId": "6d6c26c4-1201-44fb-b5cb-4eb198fbc5d2"
      },
      "execution_count": 8,
      "outputs": [
        {
          "output_type": "execute_result",
          "data": {
            "text/plain": [
              "   Id  MSSubClass  LotFrontage  LotArea  OverallQual  OverallCond  YearBuilt  \\\n",
              "0   1          60         65.0     8450            7            5       2003   \n",
              "1   2          20         80.0     9600            6            8       1976   \n",
              "2   3          60         68.0    11250            7            5       2001   \n",
              "3   4          70         60.0     9550            7            5       1915   \n",
              "4   5          60         84.0    14260            8            5       2000   \n",
              "\n",
              "   YearRemodAdd  MasVnrArea  BsmtFinSF1  ...  WoodDeckSF  OpenPorchSF  \\\n",
              "0          2003       196.0         706  ...           0           61   \n",
              "1          1976         0.0         978  ...         298            0   \n",
              "2          2002       162.0         486  ...           0           42   \n",
              "3          1970         0.0         216  ...           0           35   \n",
              "4          2000       350.0         655  ...         192           84   \n",
              "\n",
              "   EnclosedPorch  3SsnPorch  ScreenPorch  PoolArea  MiscVal  MoSold  YrSold  \\\n",
              "0              0          0            0         0        0       2    2008   \n",
              "1              0          0            0         0        0       5    2007   \n",
              "2              0          0            0         0        0       9    2008   \n",
              "3            272          0            0         0        0       2    2006   \n",
              "4              0          0            0         0        0      12    2008   \n",
              "\n",
              "   SalePrice  \n",
              "0     208500  \n",
              "1     181500  \n",
              "2     223500  \n",
              "3     140000  \n",
              "4     250000  \n",
              "\n",
              "[5 rows x 38 columns]"
            ],
            "text/html": [
              "\n",
              "  <div id=\"df-54450dff-5af7-41ef-b63a-5659dd1fe903\">\n",
              "    <div class=\"colab-df-container\">\n",
              "      <div>\n",
              "<style scoped>\n",
              "    .dataframe tbody tr th:only-of-type {\n",
              "        vertical-align: middle;\n",
              "    }\n",
              "\n",
              "    .dataframe tbody tr th {\n",
              "        vertical-align: top;\n",
              "    }\n",
              "\n",
              "    .dataframe thead th {\n",
              "        text-align: right;\n",
              "    }\n",
              "</style>\n",
              "<table border=\"1\" class=\"dataframe\">\n",
              "  <thead>\n",
              "    <tr style=\"text-align: right;\">\n",
              "      <th></th>\n",
              "      <th>Id</th>\n",
              "      <th>MSSubClass</th>\n",
              "      <th>LotFrontage</th>\n",
              "      <th>LotArea</th>\n",
              "      <th>OverallQual</th>\n",
              "      <th>OverallCond</th>\n",
              "      <th>YearBuilt</th>\n",
              "      <th>YearRemodAdd</th>\n",
              "      <th>MasVnrArea</th>\n",
              "      <th>BsmtFinSF1</th>\n",
              "      <th>...</th>\n",
              "      <th>WoodDeckSF</th>\n",
              "      <th>OpenPorchSF</th>\n",
              "      <th>EnclosedPorch</th>\n",
              "      <th>3SsnPorch</th>\n",
              "      <th>ScreenPorch</th>\n",
              "      <th>PoolArea</th>\n",
              "      <th>MiscVal</th>\n",
              "      <th>MoSold</th>\n",
              "      <th>YrSold</th>\n",
              "      <th>SalePrice</th>\n",
              "    </tr>\n",
              "  </thead>\n",
              "  <tbody>\n",
              "    <tr>\n",
              "      <th>0</th>\n",
              "      <td>1</td>\n",
              "      <td>60</td>\n",
              "      <td>65.0</td>\n",
              "      <td>8450</td>\n",
              "      <td>7</td>\n",
              "      <td>5</td>\n",
              "      <td>2003</td>\n",
              "      <td>2003</td>\n",
              "      <td>196.0</td>\n",
              "      <td>706</td>\n",
              "      <td>...</td>\n",
              "      <td>0</td>\n",
              "      <td>61</td>\n",
              "      <td>0</td>\n",
              "      <td>0</td>\n",
              "      <td>0</td>\n",
              "      <td>0</td>\n",
              "      <td>0</td>\n",
              "      <td>2</td>\n",
              "      <td>2008</td>\n",
              "      <td>208500</td>\n",
              "    </tr>\n",
              "    <tr>\n",
              "      <th>1</th>\n",
              "      <td>2</td>\n",
              "      <td>20</td>\n",
              "      <td>80.0</td>\n",
              "      <td>9600</td>\n",
              "      <td>6</td>\n",
              "      <td>8</td>\n",
              "      <td>1976</td>\n",
              "      <td>1976</td>\n",
              "      <td>0.0</td>\n",
              "      <td>978</td>\n",
              "      <td>...</td>\n",
              "      <td>298</td>\n",
              "      <td>0</td>\n",
              "      <td>0</td>\n",
              "      <td>0</td>\n",
              "      <td>0</td>\n",
              "      <td>0</td>\n",
              "      <td>0</td>\n",
              "      <td>5</td>\n",
              "      <td>2007</td>\n",
              "      <td>181500</td>\n",
              "    </tr>\n",
              "    <tr>\n",
              "      <th>2</th>\n",
              "      <td>3</td>\n",
              "      <td>60</td>\n",
              "      <td>68.0</td>\n",
              "      <td>11250</td>\n",
              "      <td>7</td>\n",
              "      <td>5</td>\n",
              "      <td>2001</td>\n",
              "      <td>2002</td>\n",
              "      <td>162.0</td>\n",
              "      <td>486</td>\n",
              "      <td>...</td>\n",
              "      <td>0</td>\n",
              "      <td>42</td>\n",
              "      <td>0</td>\n",
              "      <td>0</td>\n",
              "      <td>0</td>\n",
              "      <td>0</td>\n",
              "      <td>0</td>\n",
              "      <td>9</td>\n",
              "      <td>2008</td>\n",
              "      <td>223500</td>\n",
              "    </tr>\n",
              "    <tr>\n",
              "      <th>3</th>\n",
              "      <td>4</td>\n",
              "      <td>70</td>\n",
              "      <td>60.0</td>\n",
              "      <td>9550</td>\n",
              "      <td>7</td>\n",
              "      <td>5</td>\n",
              "      <td>1915</td>\n",
              "      <td>1970</td>\n",
              "      <td>0.0</td>\n",
              "      <td>216</td>\n",
              "      <td>...</td>\n",
              "      <td>0</td>\n",
              "      <td>35</td>\n",
              "      <td>272</td>\n",
              "      <td>0</td>\n",
              "      <td>0</td>\n",
              "      <td>0</td>\n",
              "      <td>0</td>\n",
              "      <td>2</td>\n",
              "      <td>2006</td>\n",
              "      <td>140000</td>\n",
              "    </tr>\n",
              "    <tr>\n",
              "      <th>4</th>\n",
              "      <td>5</td>\n",
              "      <td>60</td>\n",
              "      <td>84.0</td>\n",
              "      <td>14260</td>\n",
              "      <td>8</td>\n",
              "      <td>5</td>\n",
              "      <td>2000</td>\n",
              "      <td>2000</td>\n",
              "      <td>350.0</td>\n",
              "      <td>655</td>\n",
              "      <td>...</td>\n",
              "      <td>192</td>\n",
              "      <td>84</td>\n",
              "      <td>0</td>\n",
              "      <td>0</td>\n",
              "      <td>0</td>\n",
              "      <td>0</td>\n",
              "      <td>0</td>\n",
              "      <td>12</td>\n",
              "      <td>2008</td>\n",
              "      <td>250000</td>\n",
              "    </tr>\n",
              "  </tbody>\n",
              "</table>\n",
              "<p>5 rows × 38 columns</p>\n",
              "</div>\n",
              "      <button class=\"colab-df-convert\" onclick=\"convertToInteractive('df-54450dff-5af7-41ef-b63a-5659dd1fe903')\"\n",
              "              title=\"Convert this dataframe to an interactive table.\"\n",
              "              style=\"display:none;\">\n",
              "        \n",
              "  <svg xmlns=\"http://www.w3.org/2000/svg\" height=\"24px\"viewBox=\"0 0 24 24\"\n",
              "       width=\"24px\">\n",
              "    <path d=\"M0 0h24v24H0V0z\" fill=\"none\"/>\n",
              "    <path d=\"M18.56 5.44l.94 2.06.94-2.06 2.06-.94-2.06-.94-.94-2.06-.94 2.06-2.06.94zm-11 1L8.5 8.5l.94-2.06 2.06-.94-2.06-.94L8.5 2.5l-.94 2.06-2.06.94zm10 10l.94 2.06.94-2.06 2.06-.94-2.06-.94-.94-2.06-.94 2.06-2.06.94z\"/><path d=\"M17.41 7.96l-1.37-1.37c-.4-.4-.92-.59-1.43-.59-.52 0-1.04.2-1.43.59L10.3 9.45l-7.72 7.72c-.78.78-.78 2.05 0 2.83L4 21.41c.39.39.9.59 1.41.59.51 0 1.02-.2 1.41-.59l7.78-7.78 2.81-2.81c.8-.78.8-2.07 0-2.86zM5.41 20L4 18.59l7.72-7.72 1.47 1.35L5.41 20z\"/>\n",
              "  </svg>\n",
              "      </button>\n",
              "      \n",
              "  <style>\n",
              "    .colab-df-container {\n",
              "      display:flex;\n",
              "      flex-wrap:wrap;\n",
              "      gap: 12px;\n",
              "    }\n",
              "\n",
              "    .colab-df-convert {\n",
              "      background-color: #E8F0FE;\n",
              "      border: none;\n",
              "      border-radius: 50%;\n",
              "      cursor: pointer;\n",
              "      display: none;\n",
              "      fill: #1967D2;\n",
              "      height: 32px;\n",
              "      padding: 0 0 0 0;\n",
              "      width: 32px;\n",
              "    }\n",
              "\n",
              "    .colab-df-convert:hover {\n",
              "      background-color: #E2EBFA;\n",
              "      box-shadow: 0px 1px 2px rgba(60, 64, 67, 0.3), 0px 1px 3px 1px rgba(60, 64, 67, 0.15);\n",
              "      fill: #174EA6;\n",
              "    }\n",
              "\n",
              "    [theme=dark] .colab-df-convert {\n",
              "      background-color: #3B4455;\n",
              "      fill: #D2E3FC;\n",
              "    }\n",
              "\n",
              "    [theme=dark] .colab-df-convert:hover {\n",
              "      background-color: #434B5C;\n",
              "      box-shadow: 0px 1px 3px 1px rgba(0, 0, 0, 0.15);\n",
              "      filter: drop-shadow(0px 1px 2px rgba(0, 0, 0, 0.3));\n",
              "      fill: #FFFFFF;\n",
              "    }\n",
              "  </style>\n",
              "\n",
              "      <script>\n",
              "        const buttonEl =\n",
              "          document.querySelector('#df-54450dff-5af7-41ef-b63a-5659dd1fe903 button.colab-df-convert');\n",
              "        buttonEl.style.display =\n",
              "          google.colab.kernel.accessAllowed ? 'block' : 'none';\n",
              "\n",
              "        async function convertToInteractive(key) {\n",
              "          const element = document.querySelector('#df-54450dff-5af7-41ef-b63a-5659dd1fe903');\n",
              "          const dataTable =\n",
              "            await google.colab.kernel.invokeFunction('convertToInteractive',\n",
              "                                                     [key], {});\n",
              "          if (!dataTable) return;\n",
              "\n",
              "          const docLinkHtml = 'Like what you see? Visit the ' +\n",
              "            '<a target=\"_blank\" href=https://colab.research.google.com/notebooks/data_table.ipynb>data table notebook</a>'\n",
              "            + ' to learn more about interactive tables.';\n",
              "          element.innerHTML = '';\n",
              "          dataTable['output_type'] = 'display_data';\n",
              "          await google.colab.output.renderOutput(dataTable, element);\n",
              "          const docLink = document.createElement('div');\n",
              "          docLink.innerHTML = docLinkHtml;\n",
              "          element.appendChild(docLink);\n",
              "        }\n",
              "      </script>\n",
              "    </div>\n",
              "  </div>\n",
              "  "
            ]
          },
          "metadata": {},
          "execution_count": 8
        }
      ]
    },
    {
      "cell_type": "code",
      "source": [
        "# splitting the data\n",
        "X = data.drop(['SalePrice'],axis=1).values\n",
        "y = data['SalePrice'].values\n",
        "\n",
        "X = np.log1p(X)\n",
        "y = np.log1p(y)\n",
        "\n",
        "print('X shape:{}, y shape:{}'.format(X.shape,y.shape))"
      ],
      "metadata": {
        "colab": {
          "base_uri": "https://localhost:8080/"
        },
        "id": "GQESLd8o1s9d",
        "outputId": "9fe605f5-4e5a-4f30-af6e-b45c92635cd8"
      },
      "execution_count": 9,
      "outputs": [
        {
          "output_type": "stream",
          "name": "stdout",
          "text": [
            "X shape:(1460, 37), y shape:(1460,)\n"
          ]
        }
      ]
    },
    {
      "cell_type": "markdown",
      "source": [
        "## **`[Problem 1] Blending scratch mounting`**\n",
        "\n",
        "\n"
      ],
      "metadata": {
        "id": "ZL7CVp2DADj_"
      }
    },
    {
      "cell_type": "code",
      "source": [
        "X_train, X_test, y_train, y_test = train_test_split(X,y,test_size=0.2,random_state=1)\n",
        "print('X_train shape:{}, y_test shape:{}'.format(X_train.shape,y_test.shape))"
      ],
      "metadata": {
        "colab": {
          "base_uri": "https://localhost:8080/"
        },
        "id": "F7mWBr8KzicY",
        "outputId": "46ca7648-7611-4b57-900c-9aec11320d92"
      },
      "execution_count": 10,
      "outputs": [
        {
          "output_type": "stream",
          "name": "stdout",
          "text": [
            "X_train shape:(1168, 37), y_test shape:(292,)\n"
          ]
        }
      ]
    },
    {
      "cell_type": "code",
      "source": [
        "# Example number 1\n",
        "models = [LinearRegression(),SVR(),DecisionTreeRegressor()]\n",
        "predictions = list()\n",
        "for model in models:\n",
        "    model.fit(X_train,y_train)\n",
        "    predictions.append(model.predict(X_test))\n",
        "    \n",
        "predictions_ndarray = np.array(predictions)\n",
        "blend = np.mean(predictions_ndarray,axis=0)\n",
        "\n",
        "print('MSE')\n",
        "print('-------')\n",
        "print('Blend:{:.3f}'.format(mean_squared_error(y_test,blend)))"
      ],
      "metadata": {
        "colab": {
          "base_uri": "https://localhost:8080/"
        },
        "id": "1QfLS2hN3Ot5",
        "outputId": "38a8b147-afdf-4076-af1e-72a22beb8a79"
      },
      "execution_count": 11,
      "outputs": [
        {
          "output_type": "stream",
          "name": "stdout",
          "text": [
            "MSE\n",
            "-------\n",
            "Blend:0.025\n"
          ]
        }
      ]
    },
    {
      "cell_type": "code",
      "source": [
        "# Example number 2\n",
        "svr_model1 = SVR(C=1)\n",
        "svr_model2 = SVR(C=5)\n",
        "svr_model3 = SVR(C=10)\n",
        "svr_model1.fit(X_train,y_train)\n",
        "svr_model2.fit(X_train,y_train)\n",
        "svr_model3.fit(X_train,y_train)\n",
        "svr_pred1 = svr_model1.predict(X_test)\n",
        "svr_pred2 = svr_model2.predict(X_test)\n",
        "svr_pred3 = svr_model2.predict(X_test)\n",
        "    \n",
        "svr_blend = np.mean([svr_pred1,svr_pred2,svr_pred3],axis=0)\n",
        "\n",
        "print('MSE')\n",
        "print('-------')\n",
        "print('Blend:{:.3f}'.format(mean_squared_error(y_test,svr_blend)))"
      ],
      "metadata": {
        "colab": {
          "base_uri": "https://localhost:8080/"
        },
        "id": "bfXw46g9GuF_",
        "outputId": "23b96cbf-240f-4ab6-ccac-e2b424a79aa7"
      },
      "execution_count": 12,
      "outputs": [
        {
          "output_type": "stream",
          "name": "stdout",
          "text": [
            "MSE\n",
            "-------\n",
            "Blend:0.023\n"
          ]
        }
      ]
    },
    {
      "cell_type": "code",
      "source": [
        "# Example 3\n",
        "std_scaler = StandardScaler()\n",
        "std_scaler.fit(X_train)\n",
        "X_train_trans = std_scaler.transform(X_train)\n",
        "X_test_trans = std_scaler.transform(X_test)\n",
        "\n",
        "models2 = [LinearRegression(),SVR(),DecisionTreeRegressor()]\n",
        "predictions2 = list()\n",
        "for model in models2:\n",
        "    model.fit(X_train_trans,y_train)\n",
        "    predictions2.append(model.predict(X_test_trans))\n",
        "    \n",
        "predictions_ndarray2 = np.array(predictions)\n",
        "blend2 = np.mean(predictions_ndarray2,axis=0)\n",
        "\n",
        "print('MSE')\n",
        "print('-------')\n",
        "print('Blend:{:.3f}'.format(mean_squared_error(y_test,blend2)))"
      ],
      "metadata": {
        "colab": {
          "base_uri": "https://localhost:8080/"
        },
        "id": "iE95VYaFJV-n",
        "outputId": "851d60cb-0385-413e-c760-628a9447b508"
      },
      "execution_count": 13,
      "outputs": [
        {
          "output_type": "stream",
          "name": "stdout",
          "text": [
            "MSE\n",
            "-------\n",
            "Blend:0.025\n"
          ]
        }
      ]
    },
    {
      "cell_type": "markdown",
      "source": [
        "## **`[Problem 2] Scratch mounting of bagging`**\n",
        "\n"
      ],
      "metadata": {
        "id": "u7G8uvA0LdRl"
      }
    },
    {
      "cell_type": "code",
      "source": [
        "X_train_bag, X_test_bag, y_train_bag, y_test_bag = train_test_split(X,y,test_size=0.2,shuffle=True)\n",
        "print('X_train shape:{}, y_test shape:{}'.format(X_train_bag.shape,y_test_bag.shape))"
      ],
      "metadata": {
        "colab": {
          "base_uri": "https://localhost:8080/"
        },
        "id": "PZaElhcfLb9W",
        "outputId": "314b87c7-1907-464e-d29f-73684f470370"
      },
      "execution_count": 14,
      "outputs": [
        {
          "output_type": "stream",
          "name": "stdout",
          "text": [
            "X_train shape:(1168, 37), y_test shape:(292,)\n"
          ]
        }
      ]
    },
    {
      "cell_type": "code",
      "source": [
        "models = [LinearRegression(),SVR(),DecisionTreeRegressor()]\n",
        "class BaggingScratch():\n",
        "    def __init__(self, models):\n",
        "        self.models = models\n",
        "        self.predictions = list()\n",
        "        \n",
        "    def fit(self,X,y):\n",
        "        for model in models:\n",
        "            model.fit(X,y)\n",
        "    def predict(self,X):\n",
        "        predictions = list()\n",
        "        for model in self.models:\n",
        "            prediction = model.predict(X)\n",
        "            predictions.append(prediction)\n",
        "        self.predictions = np.mean(np.array(predictions),axis=0)\n",
        "        return self.predictions\n",
        "    def mse(self, y):\n",
        "        mse = (mean_squared_error(y,self.predictions))\n",
        "        return mse\n",
        "    \n",
        "\n",
        "bag = BaggingScratch(models)\n",
        "bag.fit(X_train,y_train)\n",
        "print(\"average of bagging pred:{}\".format(bag.predict(X_test)))\n",
        "print(\"average of bagging mse:{:.3f}\".format(bag.mse(y_test)))"
      ],
      "metadata": {
        "colab": {
          "base_uri": "https://localhost:8080/"
        },
        "id": "udmSYS2oMMEa",
        "outputId": "76c84851-c961-47a7-92e1-07c7996f400b"
      },
      "execution_count": 15,
      "outputs": [
        {
          "output_type": "stream",
          "name": "stdout",
          "text": [
            "average of bagging pred:[12.24834723 11.9803273  11.56490218 11.0209482  11.95028506 12.60472669\n",
            " 12.57049675 11.86406303 12.27052756 12.36113397 12.07659196 11.00131567\n",
            " 12.18649386 12.82128078 12.34279943 11.64537706 11.61961935 11.72522247\n",
            " 12.32107768 11.74982214 11.65550567 11.80025371 12.44081091 12.65000953\n",
            " 11.47600934 12.20523297 11.72834793 12.16725904 12.86618536 11.83589528\n",
            " 11.73072584 11.69092576 11.65744956 11.53485066 11.90581371 12.73189308\n",
            " 11.76620459 11.32997353 12.57239859 11.64456544 11.89106665 11.90645494\n",
            " 11.53293091 11.74041374 12.11921553 12.09052153 11.74710802 12.06724842\n",
            " 12.40847496 12.37049595 11.51670458 12.74536037 11.50253555 12.34734819\n",
            " 12.24415982 11.51290754 11.66513099 12.03161852 11.74564378 12.1246947\n",
            " 12.05537367 12.5664016  11.48497146 11.56815769 12.04109569 11.78683765\n",
            " 11.7665605  12.36580131 12.07654313 11.94699061 12.16256299 11.49884952\n",
            " 12.64776829 11.94814788 11.99932368 12.26227902 12.04960477 11.86340477\n",
            " 12.89247505 12.21539811 12.2218487  11.74789516 11.79758841 12.01696723\n",
            " 12.19222809 12.02886818 12.00452348 12.02568851 12.14031919 12.07272789\n",
            " 12.1932301  11.98374621 11.58035304 11.49854593 11.79144265 11.78590205\n",
            " 11.66549927 11.81202738 11.94793314 11.88906072 11.98585921 11.81101929\n",
            " 11.65284482 11.62568178 11.79048556 12.14972015 12.11081098 12.1586146\n",
            " 11.89831558 12.65311471 11.92443487 12.09030299 11.90105268 12.18312712\n",
            " 12.36422607 12.04175793 12.30038176 11.76253113 12.03873256 12.50073588\n",
            " 11.87475675 12.29733837 12.70867469 11.95766403 12.20320309 12.14328756\n",
            " 12.63302218 11.59321494 12.22847787 12.26244683 12.51616082 11.40559935\n",
            " 11.75751631 11.70805592 11.47063079 12.22388777 12.72587822 12.66768182\n",
            " 12.41972353 11.83855143 11.71901215 12.54425055 12.14054819 12.1630246\n",
            " 11.53496742 12.25443443 11.49762479 12.15141199 12.33775166 11.60348324\n",
            " 12.12902204 12.02384021 11.69406535 12.11512468 12.16238571 12.58597647\n",
            " 11.20037246 11.83236935 11.49811289 11.81900039 10.8461882  11.49062511\n",
            " 11.90795891 11.88660643 11.62666707 11.79042723 11.98271453 11.84846931\n",
            " 11.89244882 11.58543379 12.35661599 11.87206539 12.31573002 12.52776525\n",
            " 12.21220532 11.81543566 12.21781183 12.19986341 11.82105823 12.05088519\n",
            " 11.8343862  12.06805951 11.91456029 11.89133242 12.53327963 11.84760809\n",
            " 12.5343084  12.58255885 12.00259709 11.72081253 11.53627764 11.89279777\n",
            " 11.489222   12.22420098 11.77804349 12.45717787 12.33146388 11.97904717\n",
            " 11.80764278 11.04193037 12.23432108 12.34975594 12.10602955 12.03979855\n",
            " 12.43058494 11.70484107 12.14260578 12.61928926 12.38557474 12.36948621\n",
            " 12.20238901 11.63503197 11.97702499 11.69801762 12.5161836  12.44839643\n",
            " 11.72163508 11.37884673 12.17858756 11.14306648 12.6353742  11.68743647\n",
            " 11.93568418 12.21364068 11.67461821 11.72352883 12.17918392 12.05596463\n",
            " 11.94046769 12.02636426 11.70174296 12.09797776 11.47499846 11.73325161\n",
            " 12.63088827 11.67891512 12.57253527 11.66545513 11.80014501 12.60451988\n",
            " 12.7613643  12.06302374 11.8602322  11.87056142 11.82723683 11.63965374\n",
            " 11.96200222 11.91823821 11.98949411 12.00096934 11.63564484 11.59118072\n",
            " 12.09134308 12.08235329 11.6225595  11.66887091 12.14189883 11.43518214\n",
            " 12.62561781 11.75358959 12.25075163 12.14052999 12.27384959 12.06339638\n",
            " 11.61594112 12.23583858 11.77071536 12.12709153 11.92061986 11.4934439\n",
            " 12.09590801 12.11111709 11.38813463 11.66018836 12.11537418 11.40596943\n",
            " 11.66630664 11.80076114 11.95380759 11.91254344 11.82820696 11.81463453\n",
            " 11.77505609 11.93245587 12.3567336  12.44323496 11.7120507  11.35080043\n",
            " 12.34518061 11.55402044 11.37364782 12.51356676]\n",
            "average of bagging mse:0.024\n"
          ]
        }
      ]
    },
    {
      "cell_type": "markdown",
      "source": [
        "## **`[Problem 3] Stacking scratch mounting`**"
      ],
      "metadata": {
        "id": "gqW-MhFYZJz8"
      }
    },
    {
      "cell_type": "code",
      "source": [
        "def get_dataset():\n",
        "    X, y = datasets.make_classification(n_samples=10000, n_features=20, n_informative=15, n_redundant=5, random_state=7)\n",
        "    return X, y\n",
        "\n",
        "X, y = get_dataset()\n",
        "# Splitting into train and tests(used for base models)\n",
        "X_train_full, X_test_1, y_train_full, y_test_1 = train_test_split(X,y,test_size=0.5,random_state=1)\n",
        "\n",
        "# Splitting into train and validations(used for ensemble model)\n",
        "X_train_1, X_val, y_train_1, y_val = train_test_split(X_train_full,y_train_full,test_size=0.2,random_state=1)\n"
      ],
      "metadata": {
        "id": "ix01v4uKOh_1"
      },
      "execution_count": 20,
      "outputs": []
    },
    {
      "cell_type": "code",
      "source": [
        "# a function to return the models in a form of a tuple\n",
        "def get_models():\n",
        "    models = list()\n",
        "    models.append(('lr',LinearRegression()))\n",
        "    models.append(('knn', KNeighborsClassifier()))\n",
        "    models.append(('cart', DecisionTreeRegressor()))\n",
        "    models.append(('bayes', GaussianNB()))\n",
        "    return models\n",
        "\n",
        "# a function to fit and blend all of our models\n",
        "def fit_ensemble(models, X_train_1, X_val, y_train_1, y_val):\n",
        "    # fit and predict using the validation data\n",
        "    \n",
        "    # a list to hold the predicted data from the base model for the blender model\n",
        "    meta_X = list()\n",
        "    \n",
        "    # loop through our models\n",
        "    for name,model in models:\n",
        "        model.fit(X_train_1, y_train_1)\n",
        "        y_pred = model.predict(X_val)\n",
        "        \n",
        "        # reshaping the predicted results into a matrix with one column\n",
        "        y_pred = y_pred.reshape(len(y_pred), 1)\n",
        "        meta_X.append(y_pred)\n",
        "        \n",
        "    meta_X = np.hstack(meta_X)\n",
        "    \n",
        "    # defining our blender\n",
        "    blender = LinearRegression()\n",
        "    \n",
        "    # fitting our blender using our meta values and y validation set\n",
        "    blender.fit(meta_X, y_val)\n",
        "    return blender\n",
        "\n",
        "# a function to make predictions with our ensemble\n",
        "def pred_ensemble(models, blender, X_test_1):\n",
        "    # a list to hold te predictions for the blender\n",
        "    meta_X = list()\n",
        "    \n",
        "    # loop through our models\n",
        "    for name,model in models:\n",
        "        \n",
        "        # predicting using our base models\n",
        "        y_pred = model.predict(X_test_1)\n",
        "        \n",
        "        # reshaping the predicted results into a matrix with one column\n",
        "        y_pred = y_pred.reshape(len(y_pred), 1)\n",
        "        meta_X.append(y_pred)\n",
        "        \n",
        "    meta_X = np.hstack(meta_X)\n",
        "    \n",
        "    # predicting using our blender\n",
        "    return blender.predict(meta_X)\n",
        "\n",
        "models = get_models()\n",
        "blender = fit_ensemble(models, X_train_1, X_val, y_train_1, y_val)\n",
        "y_pred = pred_ensemble(models, blender, X_test_1)"
      ],
      "metadata": {
        "id": "oSMvf898RSso"
      },
      "execution_count": 18,
      "outputs": []
    },
    {
      "cell_type": "code",
      "source": [
        "# printing mse\n",
        "print(\"Values used\")\n",
        "print(\"Train:{} Val:{} Test:{}\".format(X_train_1.shape, X_val.shape, X_test_1.shape))\n",
        "print(\"Accuracy score\")\n",
        "print(\"------------------\")\n",
        "print(\"Blended ensemble:{:.3f}\".format(mean_squared_error(y_test_1,y_pred)))\n",
        "\n",
        "# on individual model\n",
        "model = LinearRegression()\n",
        "model.fit(X_train_1, y_train_1)\n",
        "y_pred1= model.predict(X_test_1)\n",
        "print(\"Logistic regression:{:.3f}\".format(mean_squared_error(y_test_1,y_pred1)))"
      ],
      "metadata": {
        "colab": {
          "base_uri": "https://localhost:8080/"
        },
        "id": "NrDo4gePs91w",
        "outputId": "8e2bf1fb-9d95-4523-fff2-adbc08737651"
      },
      "execution_count": 21,
      "outputs": [
        {
          "output_type": "stream",
          "name": "stdout",
          "text": [
            "Values used\n",
            "Train:(4000, 20) Val:(1000, 20) Test:(5000, 20)\n",
            "Accuracy score\n",
            "------------------\n",
            "Blended ensemble:0.023\n",
            "Logistic regression:0.110\n"
          ]
        }
      ]
    }
  ]
}