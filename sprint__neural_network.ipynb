{
  "nbformat": 4,
  "nbformat_minor": 0,
  "metadata": {
    "colab": {
      "provenance": [],
      "authorship_tag": "ABX9TyMWrfdIQ2JpkCRskWH8+aA9",
      "include_colab_link": true
    },
    "kernelspec": {
      "name": "python3",
      "display_name": "Python 3"
    },
    "language_info": {
      "name": "python"
    }
  },
  "cells": [
    {
      "cell_type": "markdown",
      "metadata": {
        "id": "view-in-github",
        "colab_type": "text"
      },
      "source": [
        "<a href=\"https://colab.research.google.com/github/PeterYves/DIC-ML-Assignmnent/blob/main/sprint__neural_network.ipynb\" target=\"_parent\"><img src=\"https://colab.research.google.com/assets/colab-badge.svg\" alt=\"Open In Colab\"/></a>"
      ]
    },
    {
      "cell_type": "code",
      "source": [
        "# Importing dependencies\n",
        "\n",
        "import numpy as np\n",
        "import pandas as pd\n",
        "import matplotlib.pyplot as plt\n",
        "%matplotlib inline\n",
        "\n",
        "from sklearn.model_selection import train_test_split\n",
        "from sklearn.metrics import accuracy_score"
      ],
      "metadata": {
        "id": "a801wnXYyQX6"
      },
      "execution_count": 1,
      "outputs": []
    },
    {
      "cell_type": "markdown",
      "source": [
        "## MNIST Dataset\n",
        "\n",
        "---\n",
        "\n"
      ],
      "metadata": {
        "id": "LCXikDqSyiwY"
      }
    },
    {
      "cell_type": "code",
      "source": [
        "from keras.datasets import mnist\n",
        "(X_train, y_train), (X_test, y_test) = mnist.load_data()"
      ],
      "metadata": {
        "id": "JecnbglBycpV"
      },
      "execution_count": 2,
      "outputs": []
    },
    {
      "cell_type": "markdown",
      "source": [
        "### **`Check the dataset`**"
      ],
      "metadata": {
        "id": "UUGa7KSr2dHu"
      }
    },
    {
      "cell_type": "code",
      "source": [
        "print(X_train.shape) # (60000, 28, 28)\n",
        "print(X_test.shape) # (10000, 28, 28)\n",
        "print(X_train[0].dtype) # uint8\n",
        "print(X_train[0])"
      ],
      "metadata": {
        "colab": {
          "base_uri": "https://localhost:8080/"
        },
        "id": "Rrpm3e_Ey2kM",
        "outputId": "2c1752da-87b7-461c-9036-3d7c706a8b21"
      },
      "execution_count": 3,
      "outputs": [
        {
          "output_type": "stream",
          "name": "stdout",
          "text": [
            "(60000, 28, 28)\n",
            "(10000, 28, 28)\n",
            "uint8\n",
            "[[  0   0   0   0   0   0   0   0   0   0   0   0   0   0   0   0   0   0\n",
            "    0   0   0   0   0   0   0   0   0   0]\n",
            " [  0   0   0   0   0   0   0   0   0   0   0   0   0   0   0   0   0   0\n",
            "    0   0   0   0   0   0   0   0   0   0]\n",
            " [  0   0   0   0   0   0   0   0   0   0   0   0   0   0   0   0   0   0\n",
            "    0   0   0   0   0   0   0   0   0   0]\n",
            " [  0   0   0   0   0   0   0   0   0   0   0   0   0   0   0   0   0   0\n",
            "    0   0   0   0   0   0   0   0   0   0]\n",
            " [  0   0   0   0   0   0   0   0   0   0   0   0   0   0   0   0   0   0\n",
            "    0   0   0   0   0   0   0   0   0   0]\n",
            " [  0   0   0   0   0   0   0   0   0   0   0   0   3  18  18  18 126 136\n",
            "  175  26 166 255 247 127   0   0   0   0]\n",
            " [  0   0   0   0   0   0   0   0  30  36  94 154 170 253 253 253 253 253\n",
            "  225 172 253 242 195  64   0   0   0   0]\n",
            " [  0   0   0   0   0   0   0  49 238 253 253 253 253 253 253 253 253 251\n",
            "   93  82  82  56  39   0   0   0   0   0]\n",
            " [  0   0   0   0   0   0   0  18 219 253 253 253 253 253 198 182 247 241\n",
            "    0   0   0   0   0   0   0   0   0   0]\n",
            " [  0   0   0   0   0   0   0   0  80 156 107 253 253 205  11   0  43 154\n",
            "    0   0   0   0   0   0   0   0   0   0]\n",
            " [  0   0   0   0   0   0   0   0   0  14   1 154 253  90   0   0   0   0\n",
            "    0   0   0   0   0   0   0   0   0   0]\n",
            " [  0   0   0   0   0   0   0   0   0   0   0 139 253 190   2   0   0   0\n",
            "    0   0   0   0   0   0   0   0   0   0]\n",
            " [  0   0   0   0   0   0   0   0   0   0   0  11 190 253  70   0   0   0\n",
            "    0   0   0   0   0   0   0   0   0   0]\n",
            " [  0   0   0   0   0   0   0   0   0   0   0   0  35 241 225 160 108   1\n",
            "    0   0   0   0   0   0   0   0   0   0]\n",
            " [  0   0   0   0   0   0   0   0   0   0   0   0   0  81 240 253 253 119\n",
            "   25   0   0   0   0   0   0   0   0   0]\n",
            " [  0   0   0   0   0   0   0   0   0   0   0   0   0   0  45 186 253 253\n",
            "  150  27   0   0   0   0   0   0   0   0]\n",
            " [  0   0   0   0   0   0   0   0   0   0   0   0   0   0   0  16  93 252\n",
            "  253 187   0   0   0   0   0   0   0   0]\n",
            " [  0   0   0   0   0   0   0   0   0   0   0   0   0   0   0   0   0 249\n",
            "  253 249  64   0   0   0   0   0   0   0]\n",
            " [  0   0   0   0   0   0   0   0   0   0   0   0   0   0  46 130 183 253\n",
            "  253 207   2   0   0   0   0   0   0   0]\n",
            " [  0   0   0   0   0   0   0   0   0   0   0   0  39 148 229 253 253 253\n",
            "  250 182   0   0   0   0   0   0   0   0]\n",
            " [  0   0   0   0   0   0   0   0   0   0  24 114 221 253 253 253 253 201\n",
            "   78   0   0   0   0   0   0   0   0   0]\n",
            " [  0   0   0   0   0   0   0   0  23  66 213 253 253 253 253 198  81   2\n",
            "    0   0   0   0   0   0   0   0   0   0]\n",
            " [  0   0   0   0   0   0  18 171 219 253 253 253 253 195  80   9   0   0\n",
            "    0   0   0   0   0   0   0   0   0   0]\n",
            " [  0   0   0   0  55 172 226 253 253 253 253 244 133  11   0   0   0   0\n",
            "    0   0   0   0   0   0   0   0   0   0]\n",
            " [  0   0   0   0 136 253 253 253 212 135 132  16   0   0   0   0   0   0\n",
            "    0   0   0   0   0   0   0   0   0   0]\n",
            " [  0   0   0   0   0   0   0   0   0   0   0   0   0   0   0   0   0   0\n",
            "    0   0   0   0   0   0   0   0   0   0]\n",
            " [  0   0   0   0   0   0   0   0   0   0   0   0   0   0   0   0   0   0\n",
            "    0   0   0   0   0   0   0   0   0   0]\n",
            " [  0   0   0   0   0   0   0   0   0   0   0   0   0   0   0   0   0   0\n",
            "    0   0   0   0   0   0   0   0   0   0]]\n"
          ]
        }
      ]
    },
    {
      "cell_type": "markdown",
      "source": [
        "## **`Smoothing`**\n",
        "\n"
      ],
      "metadata": {
        "id": "Ys8FEjrj1dha"
      }
    },
    {
      "cell_type": "code",
      "source": [
        "X_train = X_train.reshape(-1, 784)\n",
        "X_test = X_test.reshape(-1, 784)"
      ],
      "metadata": {
        "id": "jUlv51uAy-tS"
      },
      "execution_count": 4,
      "outputs": []
    },
    {
      "cell_type": "markdown",
      "source": [
        "### **`Visualization of image data`**"
      ],
      "metadata": {
        "id": "hC9jhkl51dY0"
      }
    },
    {
      "cell_type": "code",
      "source": [
        "import matplotlib.pyplot as plt\n",
        "%matplotlib inline\n",
        "index = 0\n",
        "image = X_train[index].reshape(28,28)\n",
        "# X_train[index]: (784,)\n",
        "# image: (28, 28)\n",
        "plt.imshow(image, 'gray')\n",
        "plt.title('label : {}'.format(y_train[index]))\n",
        "plt.show()"
      ],
      "metadata": {
        "colab": {
          "base_uri": "https://localhost:8080/",
          "height": 281
        },
        "id": "Yuun7LxL19tO",
        "outputId": "d8588cee-53f6-4964-ab5f-b18b931a3965"
      },
      "execution_count": 5,
      "outputs": [
        {
          "output_type": "display_data",
          "data": {
            "text/plain": [
              "<Figure size 432x288 with 1 Axes>"
            ],
            "image/png": "[encoded data removed]"
          },
          "metadata": {
            "needs_background": "light"
          }
        }
      ]
    },
    {
      "cell_type": "code",
      "source": [
        "index = 0\n",
        "image = X_train[index].reshape(28,28)\n",
        "image = image.astype(np.float64) ## Convert to float type\n",
        "image -= 105.35 ## Intentionally try to create a negative decimal value\n",
        "plt.imshow(image, 'gray')\n",
        "plt.title('label : {}'.format(y_train[index]))\n",
        "plt.show()\n",
        "print(image) ## Check the value"
      ],
      "metadata": {
        "colab": {
          "base_uri": "https://localhost:8080/",
          "height": 1000
        },
        "id": "IBNCTOm-3NY5",
        "outputId": "6eda3026-6804-4f59-8de6-e0862b8fbb3b"
      },
      "execution_count": 6,
      "outputs": [
        {
          "output_type": "display_data",
          "data": {
            "text/plain": [
              "<Figure size 432x288 with 1 Axes>"
            ],
            "image/png": "[encoded data removed]"
          },
          "metadata": {
            "needs_background": "light"
          }
        },
        {
          "output_type": "stream",
          "name": "stdout",
          "text": [
            "[[-105.35 -105.35 -105.35 -105.35 -105.35 -105.35 -105.35 -105.35 -105.35\n",
            "  -105.35 -105.35 -105.35 -105.35 -105.35 -105.35 -105.35 -105.35 -105.35\n",
            "  -105.35 -105.35 -105.35 -105.35 -105.35 -105.35 -105.35 -105.35 -105.35\n",
            "  -105.35]\n",
            " [-105.35 -105.35 -105.35 -105.35 -105.35 -105.35 -105.35 -105.35 -105.35\n",
            "  -105.35 -105.35 -105.35 -105.35 -105.35 -105.35 -105.35 -105.35 -105.35\n",
            "  -105.35 -105.35 -105.35 -105.35 -105.35 -105.35 -105.35 -105.35 -105.35\n",
            "  -105.35]\n",
            " [-105.35 -105.35 -105.35 -105.35 -105.35 -105.35 -105.35 -105.35 -105.35\n",
            "  -105.35 -105.35 -105.35 -105.35 -105.35 -105.35 -105.35 -105.35 -105.35\n",
            "  -105.35 -105.35 -105.35 -105.35 -105.35 -105.35 -105.35 -105.35 -105.35\n",
            "  -105.35]\n",
            " [-105.35 -105.35 -105.35 -105.35 -105.35 -105.35 -105.35 -105.35 -105.35\n",
            "  -105.35 -105.35 -105.35 -105.35 -105.35 -105.35 -105.35 -105.35 -105.35\n",
            "  -105.35 -105.35 -105.35 -105.35 -105.35 -105.35 -105.35 -105.35 -105.35\n",
            "  -105.35]\n",
            " [-105.35 -105.35 -105.35 -105.35 -105.35 -105.35 -105.35 -105.35 -105.35\n",
            "  -105.35 -105.35 -105.35 -105.35 -105.35 -105.35 -105.35 -105.35 -105.35\n",
            "  -105.35 -105.35 -105.35 -105.35 -105.35 -105.35 -105.35 -105.35 -105.35\n",
            "  -105.35]\n",
            " [-105.35 -105.35 -105.35 -105.35 -105.35 -105.35 -105.35 -105.35 -105.35\n",
            "  -105.35 -105.35 -105.35 -102.35  -87.35  -87.35  -87.35   20.65   30.65\n",
            "    69.65  -79.35   60.65  149.65  141.65   21.65 -105.35 -105.35 -105.35\n",
            "  -105.35]\n",
            " [-105.35 -105.35 -105.35 -105.35 -105.35 -105.35 -105.35 -105.35  -75.35\n",
            "   -69.35  -11.35   48.65   64.65  147.65  147.65  147.65  147.65  147.65\n",
            "   119.65   66.65  147.65  136.65   89.65  -41.35 -105.35 -105.35 -105.35\n",
            "  -105.35]\n",
            " [-105.35 -105.35 -105.35 -105.35 -105.35 -105.35 -105.35  -56.35  132.65\n",
            "   147.65  147.65  147.65  147.65  147.65  147.65  147.65  147.65  145.65\n",
            "   -12.35  -23.35  -23.35  -49.35  -66.35 -105.35 -105.35 -105.35 -105.35\n",
            "  -105.35]\n",
            " [-105.35 -105.35 -105.35 -105.35 -105.35 -105.35 -105.35  -87.35  113.65\n",
            "   147.65  147.65  147.65  147.65  147.65   92.65   76.65  141.65  135.65\n",
            "  -105.35 -105.35 -105.35 -105.35 -105.35 -105.35 -105.35 -105.35 -105.35\n",
            "  -105.35]\n",
            " [-105.35 -105.35 -105.35 -105.35 -105.35 -105.35 -105.35 -105.35  -25.35\n",
            "    50.65    1.65  147.65  147.65   99.65  -94.35 -105.35  -62.35   48.65\n",
            "  -105.35 -105.35 -105.35 -105.35 -105.35 -105.35 -105.35 -105.35 -105.35\n",
            "  -105.35]\n",
            " [-105.35 -105.35 -105.35 -105.35 -105.35 -105.35 -105.35 -105.35 -105.35\n",
            "   -91.35 -104.35   48.65  147.65  -15.35 -105.35 -105.35 -105.35 -105.35\n",
            "  -105.35 -105.35 -105.35 -105.35 -105.35 -105.35 -105.35 -105.35 -105.35\n",
            "  -105.35]\n",
            " [-105.35 -105.35 -105.35 -105.35 -105.35 -105.35 -105.35 -105.35 -105.35\n",
            "  -105.35 -105.35   33.65  147.65   84.65 -103.35 -105.35 -105.35 -105.35\n",
            "  -105.35 -105.35 -105.35 -105.35 -105.35 -105.35 -105.35 -105.35 -105.35\n",
            "  -105.35]\n",
            " [-105.35 -105.35 -105.35 -105.35 -105.35 -105.35 -105.35 -105.35 -105.35\n",
            "  -105.35 -105.35  -94.35   84.65  147.65  -35.35 -105.35 -105.35 -105.35\n",
            "  -105.35 -105.35 -105.35 -105.35 -105.35 -105.35 -105.35 -105.35 -105.35\n",
            "  -105.35]\n",
            " [-105.35 -105.35 -105.35 -105.35 -105.35 -105.35 -105.35 -105.35 -105.35\n",
            "  -105.35 -105.35 -105.35  -70.35  135.65  119.65   54.65    2.65 -104.35\n",
            "  -105.35 -105.35 -105.35 -105.35 -105.35 -105.35 -105.35 -105.35 -105.35\n",
            "  -105.35]\n",
            " [-105.35 -105.35 -105.35 -105.35 -105.35 -105.35 -105.35 -105.35 -105.35\n",
            "  -105.35 -105.35 -105.35 -105.35  -24.35  134.65  147.65  147.65   13.65\n",
            "   -80.35 -105.35 -105.35 -105.35 -105.35 -105.35 -105.35 -105.35 -105.35\n",
            "  -105.35]\n",
            " [-105.35 -105.35 -105.35 -105.35 -105.35 -105.35 -105.35 -105.35 -105.35\n",
            "  -105.35 -105.35 -105.35 -105.35 -105.35  -60.35   80.65  147.65  147.65\n",
            "    44.65  -78.35 -105.35 -105.35 -105.35 -105.35 -105.35 -105.35 -105.35\n",
            "  -105.35]\n",
            " [-105.35 -105.35 -105.35 -105.35 -105.35 -105.35 -105.35 -105.35 -105.35\n",
            "  -105.35 -105.35 -105.35 -105.35 -105.35 -105.35  -89.35  -12.35  146.65\n",
            "   147.65   81.65 -105.35 -105.35 -105.35 -105.35 -105.35 -105.35 -105.35\n",
            "  -105.35]\n",
            " [-105.35 -105.35 -105.35 -105.35 -105.35 -105.35 -105.35 -105.35 -105.35\n",
            "  -105.35 -105.35 -105.35 -105.35 -105.35 -105.35 -105.35 -105.35  143.65\n",
            "   147.65  143.65  -41.35 -105.35 -105.35 -105.35 -105.35 -105.35 -105.35\n",
            "  -105.35]\n",
            " [-105.35 -105.35 -105.35 -105.35 -105.35 -105.35 -105.35 -105.35 -105.35\n",
            "  -105.35 -105.35 -105.35 -105.35 -105.35  -59.35   24.65   77.65  147.65\n",
            "   147.65  101.65 -103.35 -105.35 -105.35 -105.35 -105.35 -105.35 -105.35\n",
            "  -105.35]\n",
            " [-105.35 -105.35 -105.35 -105.35 -105.35 -105.35 -105.35 -105.35 -105.35\n",
            "  -105.35 -105.35 -105.35  -66.35   42.65  123.65  147.65  147.65  147.65\n",
            "   144.65   76.65 -105.35 -105.35 -105.35 -105.35 -105.35 -105.35 -105.35\n",
            "  -105.35]\n",
            " [-105.35 -105.35 -105.35 -105.35 -105.35 -105.35 -105.35 -105.35 -105.35\n",
            "  -105.35  -81.35    8.65  115.65  147.65  147.65  147.65  147.65   95.65\n",
            "   -27.35 -105.35 -105.35 -105.35 -105.35 -105.35 -105.35 -105.35 -105.35\n",
            "  -105.35]\n",
            " [-105.35 -105.35 -105.35 -105.35 -105.35 -105.35 -105.35 -105.35  -82.35\n",
            "   -39.35  107.65  147.65  147.65  147.65  147.65   92.65  -24.35 -103.35\n",
            "  -105.35 -105.35 -105.35 -105.35 -105.35 -105.35 -105.35 -105.35 -105.35\n",
            "  -105.35]\n",
            " [-105.35 -105.35 -105.35 -105.35 -105.35 -105.35  -87.35   65.65  113.65\n",
            "   147.65  147.65  147.65  147.65   89.65  -25.35  -96.35 -105.35 -105.35\n",
            "  -105.35 -105.35 -105.35 -105.35 -105.35 -105.35 -105.35 -105.35 -105.35\n",
            "  -105.35]\n",
            " [-105.35 -105.35 -105.35 -105.35  -50.35   66.65  120.65  147.65  147.65\n",
            "   147.65  147.65  138.65   27.65  -94.35 -105.35 -105.35 -105.35 -105.35\n",
            "  -105.35 -105.35 -105.35 -105.35 -105.35 -105.35 -105.35 -105.35 -105.35\n",
            "  -105.35]\n",
            " [-105.35 -105.35 -105.35 -105.35   30.65  147.65  147.65  147.65  106.65\n",
            "    29.65   26.65  -89.35 -105.35 -105.35 -105.35 -105.35 -105.35 -105.35\n",
            "  -105.35 -105.35 -105.35 -105.35 -105.35 -105.35 -105.35 -105.35 -105.35\n",
            "  -105.35]\n",
            " [-105.35 -105.35 -105.35 -105.35 -105.35 -105.35 -105.35 -105.35 -105.35\n",
            "  -105.35 -105.35 -105.35 -105.35 -105.35 -105.35 -105.35 -105.35 -105.35\n",
            "  -105.35 -105.35 -105.35 -105.35 -105.35 -105.35 -105.35 -105.35 -105.35\n",
            "  -105.35]\n",
            " [-105.35 -105.35 -105.35 -105.35 -105.35 -105.35 -105.35 -105.35 -105.35\n",
            "  -105.35 -105.35 -105.35 -105.35 -105.35 -105.35 -105.35 -105.35 -105.35\n",
            "  -105.35 -105.35 -105.35 -105.35 -105.35 -105.35 -105.35 -105.35 -105.35\n",
            "  -105.35]\n",
            " [-105.35 -105.35 -105.35 -105.35 -105.35 -105.35 -105.35 -105.35 -105.35\n",
            "  -105.35 -105.35 -105.35 -105.35 -105.35 -105.35 -105.35 -105.35 -105.35\n",
            "  -105.35 -105.35 -105.35 -105.35 -105.35 -105.35 -105.35 -105.35 -105.35\n",
            "  -105.35]]\n"
          ]
        }
      ]
    },
    {
      "cell_type": "code",
      "source": [
        "plt.imshow(image, 'gray', vmin = 0, vmax = 255)"
      ],
      "metadata": {
        "colab": {
          "base_uri": "https://localhost:8080/",
          "height": 282
        },
        "id": "GkPkN9EM757F",
        "outputId": "1fe514c0-36f7-4093-ed40-597fb6915c6e"
      },
      "execution_count": 7,
      "outputs": [
        {
          "output_type": "execute_result",
          "data": {
            "text/plain": [
              "<matplotlib.image.AxesImage at 0x7f763736c310>"
            ]
          },
          "metadata": {},
          "execution_count": 7
        },
        {
          "output_type": "display_data",
          "data": {
            "text/plain": [
              "<Figure size 432x288 with 1 Axes>"
            ],
            "image/png": "[encoded data removed]"
          },
          "metadata": {
            "needs_background": "light"
          }
        }
      ]
    },
    {
      "cell_type": "markdown",
      "source": [
        "### **`Preprocessing`**"
      ],
      "metadata": {
        "id": "UWaXyrtI8FSA"
      }
    },
    {
      "cell_type": "code",
      "source": [
        "X_train = X_train.astype(np.float64)\n",
        "X_test = X_test.astype(np.float64)\n",
        "X_train /= 255\n",
        "X_test /= 255\n",
        "print(X_train.max()) # 1.0\n",
        "print(X_train.min()) # 0.0"
      ],
      "metadata": {
        "colab": {
          "base_uri": "https://localhost:8080/"
        },
        "id": "vxL2qBOX_mwI",
        "outputId": "3c7e6c9d-951e-4bda-99a5-f3da23b68d22"
      },
      "execution_count": 8,
      "outputs": [
        {
          "output_type": "stream",
          "name": "stdout",
          "text": [
            "1.0\n",
            "0.0\n"
          ]
        }
      ]
    },
    {
      "cell_type": "code",
      "source": [
        "from sklearn.preprocessing import OneHotEncoder\n",
        "enc = OneHotEncoder(handle_unknown='ignore', sparse=False)\n",
        "y_train_one_hot = enc.fit_transform(y_train[:, np.newaxis])\n",
        "y_test_one_hot = enc.transform(y_test[:, np.newaxis])\n",
        "print(y_train.shape) # (60000,)\n",
        "print(y_train_one_hot.shape) # (60000, 10)\n",
        "print(y_train_one_hot.dtype) # float64"
      ],
      "metadata": {
        "colab": {
          "base_uri": "https://localhost:8080/"
        },
        "id": "pZ3eYgt6_qJH",
        "outputId": "3d9e95ea-9ef8-45b7-ff51-4867bceb9014"
      },
      "execution_count": 9,
      "outputs": [
        {
          "output_type": "stream",
          "name": "stdout",
          "text": [
            "(60000,)\n",
            "(60000, 10)\n",
            "float64\n"
          ]
        }
      ]
    },
    {
      "cell_type": "code",
      "source": [
        "X_train, X_val, y_train, y_val = train_test_split(X_train, y_train, test_size=0.2)\n",
        "print(X_train.shape) # (48000, 784)\n",
        "print(X_val.shape) # (12000, 784)"
      ],
      "metadata": {
        "colab": {
          "base_uri": "https://localhost:8080/"
        },
        "id": "pqLmvABKAHaC",
        "outputId": "ca08ea57-d70f-4433-ee60-590d8e204eb4"
      },
      "execution_count": 10,
      "outputs": [
        {
          "output_type": "stream",
          "name": "stdout",
          "text": [
            "(48000, 784)\n",
            "(12000, 784)\n"
          ]
        }
      ]
    },
    {
      "cell_type": "markdown",
      "source": [
        "## Neural network scratch\n",
        "\n",
        "---\n"
      ],
      "metadata": {
        "id": "Rto_TUl4xjUr"
      }
    },
    {
      "cell_type": "markdown",
      "source": [
        "### **Problem 1-5:** Creating code to determine the initial values of the weights, Implementation of Forward Propagation, Implementation of Cross-Entropy Error, Back-propagation implementation, Estimation\n",
        "\n",
        "---\n",
        "\n"
      ],
      "metadata": {
        "id": "PeDb0yEkChHZ"
      }
    },
    {
      "cell_type": "code",
      "execution_count": 11,
      "metadata": {
        "id": "GHYSC2pkoy4L"
      },
      "outputs": [],
      "source": [
        "from sklearn.preprocessing import OneHotEncoder\n",
        "class ScratchSimpleNeuralNetrowkClassifier():\n",
        "    \"\"\"\n",
        "    Simple three-layer neural network classifier\n",
        "\n",
        "    Parameters\n",
        "    ----------\n",
        "\n",
        "    Attributes\n",
        "    ----------\n",
        "    \"\"\"\n",
        "    def __init__(self, n_nodes1, n_nodes2, lr=0.1, epoch=5, batch_size=20, sigma=0.01, activation_func=\"sigmoid\", verbose = True):\n",
        "        self.verbose = verbose\n",
        "        self.params = {}\n",
        "        self.bias = {}\n",
        "        \n",
        "        self.n_nodes1 = n_nodes1\n",
        "        self.n_nodes2 = n_nodes2\n",
        "        self.lr = lr\n",
        "        self.epoch = epoch\n",
        "        self.batch_size = batch_size\n",
        "        self.sigma = sigma\n",
        "        \n",
        "        self.train_loss = []\n",
        "        self.val_loss = []\n",
        "        \n",
        "        if activation_func == \"sigmoid\":\n",
        "            self.forward_activation_func = self._sigmoid_forward\n",
        "            self.backward_activation_func = self._sigmoid_backward\n",
        "        elif activation_func == \"tanh\":\n",
        "            self.forward_activation_func = self._tanh_forward\n",
        "            self.backward_activation_func = self._tanh_backward\n",
        "        else:\n",
        "            raise ValueError(\"No exists such activation function !!\")\n",
        "                \n",
        "    \n",
        "    def fit(self, X, y, X_val=None, y_val=None):\n",
        "        \n",
        "       ## Whether to record the loss function of verification data\n",
        "        calc_val = (X_val is not None) & (y_val is not None)\n",
        "        \n",
        "        ## One_hot conversion of objective variable\n",
        "        y = self._one_hot_encoding(y) \n",
        "        if calc_val:\n",
        "            y_val = self._one_hot_encoding(y_val) \n",
        "        \n",
        "        ## Initial value parameter set\n",
        "        self._set_parameters(X, y)\n",
        "        \n",
        "        ## Mini batch object definition\n",
        "        get_mini_batch = GetMiniBatch(X, y, batch_size=self.batch_size)\n",
        "        \n",
        "        ## Learning\n",
        "        for ep in range(self.epoch):\n",
        "            for mini_X, mini_y in get_mini_batch:\n",
        "                ## Forward propagation\n",
        "                ## ① Hierarchy＝＝＝＝＝＝＝＝＝＝＝＝＝＝＝＝＝＝\n",
        "                A1 = mini_X @ self.params[\"W1\"] + self.bias[\"b1\"]\n",
        "                Z1 = self.forward_activation_func(A1)\n",
        "                ## ② Hierarchy＝＝＝＝＝＝＝＝＝＝＝＝＝＝＝＝＝＝\n",
        "                A2 = Z1 @ self.params[\"W2\"] + self.bias[\"b2\"]\n",
        "                Z2 = self.forward_activation_func(A2)\n",
        "                ## ③ Hierarchy＝＝＝＝＝＝＝＝＝＝＝＝＝＝＝＝＝＝\n",
        "                A3 = Z2 @ self.params[\"W3\"] + self.bias[\"b3\"]\n",
        "                Z3 = self._softmax(A3)\n",
        "                #＝＝＝＝＝＝＝＝＝＝＝＝＝＝＝＝＝＝＝＝＝＝\n",
        "                \n",
        "               ## Backpropagation\n",
        "                ## ③ Layer＝＝＝＝＝＝＝＝＝＝＝＝＝＝＝＝＝＝\n",
        "                deltaA3 = Z3 - mini_y\n",
        "                deltaB3 = np.sum(deltaA3, axis=0)\n",
        "                deltaW3 = Z2.T @ deltaA3\n",
        "\n",
        "                self.params[\"W3\"] -= self.lr * deltaW3\n",
        "                self.bias[\"b3\"] -= self.lr * deltaB3\n",
        "                \n",
        "                deltaZ2 = deltaA3 @ self.params[\"W3\"].T\n",
        "\n",
        "                ## ② Layer＝＝＝＝＝＝＝＝＝＝＝＝＝＝＝＝＝＝\n",
        "                deltaA2 = deltaZ2 * self.backward_activation_func(A2) \n",
        "                deltaB2 = np.sum(deltaA2, axis=0)\n",
        "                deltaW2 = Z1.T @ deltaA2\n",
        "\n",
        "                self.params[\"W2\"] -= self.lr * deltaW2\n",
        "                self.bias[\"b2\"] -= self.lr * deltaB2\n",
        "                \n",
        "                deltaZ1 = deltaA2 @ self.params[\"W2\"].T\n",
        "                ## ① Layer＝＝＝＝＝＝＝＝＝＝＝＝＝＝＝＝＝＝\n",
        "                deltaA1 = deltaZ1 * self.backward_activation_func(A1) \n",
        "                deltaB1 = np.sum(deltaA1, axis=0)\n",
        "                deltaW1 = mini_X.T @ deltaA1\n",
        "\n",
        "                self.params[\"W1\"] -= self.lr * deltaW1\n",
        "                self.bias[\"b1\"] -= self.lr * deltaB1\n",
        "                #＝＝＝＝＝＝＝＝＝＝＝＝＝＝＝＝＝＝＝＝＝\n",
        "\n",
        "            ## Record of loss\n",
        "            tr_loss = self._cross_entropy(self.predict_prob(X), y)\n",
        "            self.train_loss.append(tr_loss)\n",
        "            \n",
        "            if self.verbose:\n",
        "                    print(\"Train loss of epoch {}: {}\".format(ep, tr_loss))\n",
        "            \n",
        "            if calc_val:\n",
        "                va_loss = self._cross_entropy(self.predict_prob(X_val), y_val)\n",
        "                self.val_loss.append(va_loss)\n",
        "                \n",
        "                \n",
        "    def predict_prob(self, X):\n",
        "        ## Forward propagation\n",
        "        ## ① Hierarchy＝＝＝＝＝＝＝＝＝＝＝＝＝＝＝＝＝＝\n",
        "        A1 = X @ self.params[\"W1\"] + self.bias[\"b1\"]\n",
        "        Z1 = self.forward_activation_func(A1)\n",
        "        ## ② Hierarchy＝＝＝＝＝＝＝＝＝＝＝＝＝＝＝＝＝＝\n",
        "        A2 = Z1 @ self.params[\"W2\"] + self.bias[\"b2\"]\n",
        "        Z2 = self.forward_activation_func(A2)\n",
        "        ## ③ Hierarchy＝＝＝＝＝＝＝＝＝＝＝＝＝＝＝＝＝＝\n",
        "        A3 = Z2 @ self.params[\"W3\"] + self.bias[\"b3\"]\n",
        "        y = self._softmax(A3)\n",
        "        ##＝＝＝＝＝＝＝＝＝＝＝＝＝＝＝＝＝＝＝＝＝＝\n",
        "        \n",
        "        return y\n",
        "                \n",
        "    def predict(self, X):\n",
        "        y = np.argmax(self.predict_prob(X), axis=1)\n",
        "         \n",
        "        return y\n",
        "    \n",
        "    def _set_parameters(self, X, y):\n",
        "        ## Set the number of features and the number of classes\n",
        "        self.n_features = X.shape[1] \n",
        "        self.n_output = y.shape[1]\n",
        "        \n",
        "        ## Initial weight\n",
        "        self.params[\"W1\"] = self.sigma * np.random.randn(self.n_features, self.n_nodes1)\n",
        "        self.params[\"W2\"] = self.sigma * np.random.randn(self.n_nodes1, self.n_nodes2)\n",
        "        self.params[\"W3\"] = self.sigma * np.random.randn(self.n_nodes2, self.n_output)\n",
        "        \n",
        "       ## Bias initial value\n",
        "        self.bias[\"b1\"] = self.sigma * np.random.randn(self.n_nodes1, )\n",
        "        self.bias[\"b2\"] = self.sigma * np.random.randn(self.n_nodes2, )\n",
        "        self.bias[\"b3\"] = self.sigma * np.random.randn(self.n_output, )\n",
        "    \n",
        "    def _sigmoid_forward(self, X):\n",
        "        return 1 / (1 + np.exp(-X))\n",
        "    \n",
        "    def _tanh_forward(self, X):\n",
        "        return np.tanh(X)\n",
        "    \n",
        "    def _sigmoid_backward(self, X):\n",
        "        return (1-self._sigmoid_forward(X)) * self._sigmoid_forward(X)\n",
        "    \n",
        "    def _tanh_backward(self, X):\n",
        "        return (1 - self._tanh_forward(X)**2)\n",
        "    \n",
        "    def _softmax(self, X):\n",
        "        X = X - np.max(X)\n",
        "        return np.exp(X) / np.sum(np.exp(X), axis=1, keepdims=True)\n",
        "        \n",
        "    def _one_hot_encoding(self, y):\n",
        "        enc = OneHotEncoder(handle_unknown='ignore', sparse=False)\n",
        "        y_one_hot = enc.fit_transform(y[:, np.newaxis])\n",
        "        return y_one_hot\n",
        "\n",
        "    def _cross_entropy(self, X, y):\n",
        "        batch_size = len(X)\n",
        "        delta = 1e-7\n",
        "        return -np.sum(y * np.log(X+delta)) / batch_size"
      ]
    },
    {
      "cell_type": "code",
      "source": [
        "class GetMiniBatch:\n",
        "    \"\"\"\n",
        "    Iterator to get a mini-batch\n",
        "\n",
        "    Parameters\n",
        "    ----------\n",
        "    X :The following form ndarray, shape (n_samples, n_features)\n",
        "      Training data\n",
        "    y : The following form ndarray, shape (n_samples, 1)\n",
        "      Correct answer value\n",
        "    batch_size : int\n",
        "      Batch size\n",
        "    seed : int\n",
        "      NumPy random number seed\n",
        "    \"\"\"\n",
        "    def __init__(self, X, y, batch_size = 20, seed=0):\n",
        "        self.batch_size = batch_size\n",
        "        np.random.seed(seed)\n",
        "        shuffle_index = np.random.permutation(np.arange(X.shape[0]))\n",
        "        self._X = X[shuffle_index]\n",
        "        self._y = y[shuffle_index]\n",
        "        self._stop = np.ceil(X.shape[0]/self.batch_size).astype(np.int64)\n",
        "    def __len__(self):\n",
        "        return self._stop\n",
        "    def __getitem__(self,item):\n",
        "        p0 = item*self.batch_size\n",
        "        p1 = item*self.batch_size + self.batch_size\n",
        "        return self._X[p0:p1], self._y[p0:p1]        \n",
        "    def __iter__(self):\n",
        "        self._counter = 0\n",
        "        return self\n",
        "    def __next__(self):\n",
        "      if self._counter >= self._stop:\n",
        "          raise StopIteration()\n",
        "      p0 = self._counter*self.batch_size\n",
        "      p1 = self._counter*self.batch_size + self.batch_size\n",
        "      self._counter += 1\n",
        "      return self._X[p0:p1], self._y[p0:p1]"
      ],
      "metadata": {
        "id": "-WKAZ-m8BZ-8"
      },
      "execution_count": 12,
      "outputs": []
    },
    {
      "cell_type": "markdown",
      "source": [
        "### **Problem 6 Learning and Estimation**\n",
        "\n",
        "---\n",
        "\n"
      ],
      "metadata": {
        "id": "NfCWudl0DbYy"
      }
    },
    {
      "cell_type": "code",
      "source": [
        "nn = ScratchSimpleNeuralNetrowkClassifier(400,200, epoch=50,lr=1e-3)\n",
        "nn.fit(X_train, y_train, X_test, y_test)"
      ],
      "metadata": {
        "colab": {
          "base_uri": "https://localhost:8080/"
        },
        "id": "NMht4BLmDeah",
        "outputId": "23d3f7a1-9b9c-4ca6-dda8-9bc1ed6f14d3"
      },
      "execution_count": 13,
      "outputs": [
        {
          "output_type": "stream",
          "name": "stdout",
          "text": [
            "Train loss of epoch 0: 2.3073592872982536\n",
            "Train loss of epoch 1: 2.307463188526911\n",
            "Train loss of epoch 2: 2.305411952837007\n",
            "Train loss of epoch 3: 2.263152212300946\n",
            "Train loss of epoch 4: 1.5008779009733195\n",
            "Train loss of epoch 5: 1.174653288017997\n",
            "Train loss of epoch 6: 0.8174204805929709\n",
            "Train loss of epoch 7: 0.70967508544467\n",
            "Train loss of epoch 8: 0.6332521514177104\n",
            "Train loss of epoch 9: 0.5648940751081594\n",
            "Train loss of epoch 10: 0.5159526968798998\n",
            "Train loss of epoch 11: 0.4797128261369226\n",
            "Train loss of epoch 12: 0.44668945007420735\n",
            "Train loss of epoch 13: 0.4132725332661111\n",
            "Train loss of epoch 14: 0.3847478182787259\n",
            "Train loss of epoch 15: 0.36395694644930265\n",
            "Train loss of epoch 16: 0.3479439227832155\n",
            "Train loss of epoch 17: 0.33439420772729556\n",
            "Train loss of epoch 18: 0.32227227779275025\n",
            "Train loss of epoch 19: 0.31113749926871126\n",
            "Train loss of epoch 20: 0.30076213270250685\n",
            "Train loss of epoch 21: 0.29097626860391335\n",
            "Train loss of epoch 22: 0.28163099153122256\n",
            "Train loss of epoch 23: 0.2726051383125078\n",
            "Train loss of epoch 24: 0.26381660336233187\n",
            "Train loss of epoch 25: 0.25522511189508507\n",
            "Train loss of epoch 26: 0.24682673323620205\n",
            "Train loss of epoch 27: 0.23864380109751254\n",
            "Train loss of epoch 28: 0.230713109449557\n",
            "Train loss of epoch 29: 0.223074475400432\n",
            "Train loss of epoch 30: 0.2157614637661388\n",
            "Train loss of epoch 31: 0.20879555603316882\n",
            "Train loss of epoch 32: 0.20218417264964011\n",
            "Train loss of epoch 33: 0.19592197886146828\n",
            "Train loss of epoch 34: 0.1899941731022175\n",
            "Train loss of epoch 35: 0.18438028744234036\n",
            "Train loss of epoch 36: 0.1790574235249647\n",
            "Train loss of epoch 37: 0.17400247717440864\n",
            "Train loss of epoch 38: 0.16919341280761524\n",
            "Train loss of epoch 39: 0.16460987603523608\n",
            "Train loss of epoch 40: 0.16023342872949775\n",
            "Train loss of epoch 41: 0.15604758979866143\n",
            "Train loss of epoch 42: 0.15203776979626463\n",
            "Train loss of epoch 43: 0.14819113473567047\n",
            "Train loss of epoch 44: 0.14449641831156806\n",
            "Train loss of epoch 45: 0.14094370423999397\n",
            "Train loss of epoch 46: 0.1375242056176798\n",
            "Train loss of epoch 47: 0.13423006657909606\n",
            "Train loss of epoch 48: 0.13105420202477633\n",
            "Train loss of epoch 49: 0.12799017882362398\n"
          ]
        }
      ]
    },
    {
      "cell_type": "code",
      "source": [
        "y_pred = nn.predict(X_test)\n",
        "print(\"pred:\", y_pred)\n",
        "print(\"ans:\", y_test)\n",
        "print(\"accuracy score:\", accuracy_score(y_test, y_pred))"
      ],
      "metadata": {
        "colab": {
          "base_uri": "https://localhost:8080/"
        },
        "id": "r1WI7AdgFUoh",
        "outputId": "ca1cee0c-6cfb-495f-bfb1-ceb025e37fed"
      },
      "execution_count": 14,
      "outputs": [
        {
          "output_type": "stream",
          "name": "stdout",
          "text": [
            "pred: [7 2 1 ... 4 5 6]\n",
            "ans: [7 2 1 ... 4 5 6]\n",
            "accuracy score: 0.9598\n"
          ]
        }
      ]
    },
    {
      "cell_type": "markdown",
      "source": [
        "### **[Problem 7] Plotting the learning curve**\n",
        "\n",
        "---\n",
        "\n"
      ],
      "metadata": {
        "id": "maA3A9VNqKka"
      }
    },
    {
      "cell_type": "code",
      "source": [
        "plt.plot(nn.train_loss, marker=\"o\", label=\"train_loss\", c= \"red\")\n",
        "plt.plot(nn.val_loss, marker=\"^\", label=\"val_loss\")\n",
        "plt.title(\"Loss transition by learning\")\n",
        "plt.xlabel(\"epoch\")\n",
        "plt.ylabel(\"loss\")\n",
        "plt.show()"
      ],
      "metadata": {
        "colab": {
          "base_uri": "https://localhost:8080/",
          "height": 295
        },
        "id": "tkMsFN41mlNW",
        "outputId": "f09bb61f-3744-4cd8-d243-60888ba06901"
      },
      "execution_count": 24,
      "outputs": [
        {
          "output_type": "display_data",
          "data": {
            "text/plain": [
              "<Figure size 432x288 with 1 Axes>"
            ],
            "image/png": "[encoded data removed]"
          },
          "metadata": {
            "needs_background": "light"
          }
        }
      ]
    },
    {
      "cell_type": "code",
      "source": [
        "nn.train_loss"
      ],
      "metadata": {
        "colab": {
          "base_uri": "https://localhost:8080/"
        },
        "id": "RuG1-Px9u4fr",
        "outputId": "d5c55965-0a89-4bfd-c2f8-e31faf10531b"
      },
      "execution_count": 25,
      "outputs": [
        {
          "output_type": "execute_result",
          "data": {
            "text/plain": [
              "[2.3073592872982536,\n",
              " 2.307463188526911,\n",
              " 2.305411952837007,\n",
              " 2.263152212300946,\n",
              " 1.5008779009733195,\n",
              " 1.174653288017997,\n",
              " 0.8174204805929709,\n",
              " 0.70967508544467,\n",
              " 0.6332521514177104,\n",
              " 0.5648940751081594,\n",
              " 0.5159526968798998,\n",
              " 0.4797128261369226,\n",
              " 0.44668945007420735,\n",
              " 0.4132725332661111,\n",
              " 0.3847478182787259,\n",
              " 0.36395694644930265,\n",
              " 0.3479439227832155,\n",
              " 0.33439420772729556,\n",
              " 0.32227227779275025,\n",
              " 0.31113749926871126,\n",
              " 0.30076213270250685,\n",
              " 0.29097626860391335,\n",
              " 0.28163099153122256,\n",
              " 0.2726051383125078,\n",
              " 0.26381660336233187,\n",
              " 0.25522511189508507,\n",
              " 0.24682673323620205,\n",
              " 0.23864380109751254,\n",
              " 0.230713109449557,\n",
              " 0.223074475400432,\n",
              " 0.2157614637661388,\n",
              " 0.20879555603316882,\n",
              " 0.20218417264964011,\n",
              " 0.19592197886146828,\n",
              " 0.1899941731022175,\n",
              " 0.18438028744234036,\n",
              " 0.1790574235249647,\n",
              " 0.17400247717440864,\n",
              " 0.16919341280761524,\n",
              " 0.16460987603523608,\n",
              " 0.16023342872949775,\n",
              " 0.15604758979866143,\n",
              " 0.15203776979626463,\n",
              " 0.14819113473567047,\n",
              " 0.14449641831156806,\n",
              " 0.14094370423999397,\n",
              " 0.1375242056176798,\n",
              " 0.13423006657909606,\n",
              " 0.13105420202477633,\n",
              " 0.12799017882362398]"
            ]
          },
          "metadata": {},
          "execution_count": 25
        }
      ]
    },
    {
      "cell_type": "code",
      "source": [
        "nn.val_loss"
      ],
      "metadata": {
        "colab": {
          "base_uri": "https://localhost:8080/"
        },
        "id": "ruZhYTxGvHdz",
        "outputId": "c521ce66-27d0-478b-f938-5529f459e5d8"
      },
      "execution_count": 26,
      "outputs": [
        {
          "output_type": "execute_result",
          "data": {
            "text/plain": [
              "[2.3065495400889,\n",
              " 2.3064144127446236,\n",
              " 2.3041228368178635,\n",
              " 2.2608997478022546,\n",
              " 1.4827287733984984,\n",
              " 1.163217727993498,\n",
              " 0.8098861854227077,\n",
              " 0.7027393975707981,\n",
              " 0.6257810340505046,\n",
              " 0.5568498344819298,\n",
              " 0.5082160286214853,\n",
              " 0.47311870391194444,\n",
              " 0.4416562574634105,\n",
              " 0.41003067903633894,\n",
              " 0.3832099250160024,\n",
              " 0.3637820110753074,\n",
              " 0.34881016782177066,\n",
              " 0.3360024084287885,\n",
              " 0.32435568589835745,\n",
              " 0.31348390026750905,\n",
              " 0.3032276174680231,\n",
              " 0.2934846398218144,\n",
              " 0.2841588203262821,\n",
              " 0.27516146714486567,\n",
              " 0.2664258668650526,\n",
              " 0.25791649221859037,\n",
              " 0.24962950047815502,\n",
              " 0.24158659452911943,\n",
              " 0.2338249505411346,\n",
              " 0.2263860251679525,\n",
              " 0.21930594231954323,\n",
              " 0.21260924684730967,\n",
              " 0.20630646894863788,\n",
              " 0.2003948544893326,\n",
              " 0.19486105576933094,\n",
              " 0.18968452720046347,\n",
              " 0.18484068904169115,\n",
              " 0.1803033844211272,\n",
              " 0.1760465509328238,\n",
              " 0.1720452493284819,\n",
              " 0.16827624614449663,\n",
              " 0.1647183096562809,\n",
              " 0.16135232116652634,\n",
              " 0.15816126093658997,\n",
              " 0.1551301055007988,\n",
              " 0.1522456652241412,\n",
              " 0.14949639000660125,\n",
              " 0.14687216853317422,\n",
              " 0.1443641374107984,\n",
              " 0.14196450456187942]"
            ]
          },
          "metadata": {},
          "execution_count": 26
        }
      ]
    },
    {
      "cell_type": "markdown",
      "source": [
        "### **Problem 8 (Advance Assignment) Confirmation of Misclassification**\n",
        "\n",
        "---\n",
        "\n"
      ],
      "metadata": {
        "id": "0xo2FMmJ1M-x"
      }
    },
    {
      "cell_type": "code",
      "source": [
        "y_val = y_test\n",
        "\n",
        "\"\"\"\n",
        "Display word classification results side by side. The display above the image is \"estimated result / correct answer\".\n",
        "\n",
        "Parameters:\n",
        "----------\n",
        "y_pred : Estimated value ndarray (n_samples,)\n",
        "y_val : Correct label for validation data (n_samples,)\n",
        "X_val : Features of verification data（n_samples, n_features)\n",
        "\"\"\"\n",
        "import numpy as np\n",
        "import matplotlib.pyplot as plt\n",
        "num = 36 # How many to display\n",
        "true_false = y_pred==y_test\n",
        "false_list = np.where(true_false==False)[0].astype(np.int64)\n",
        "if false_list.shape[0] < num:\n",
        "    num = false_list.shape[0]\n",
        "fig = plt.figure(figsize=(6, 6))\n",
        "fig.subplots_adjust(left=0, right=0.8,  bottom=0, top=0.8, hspace=1, wspace=0.5)\n",
        "for i in range(num):\n",
        "    ax = fig.add_subplot(6, 6, i + 1, xticks=[], yticks=[])\n",
        "    ax.set_title(\"{} / {}\".format(y_pred[false_list[i]],y_test[false_list[i]]))\n",
        "    ax.imshow(X_test.reshape(-1,28,28)[false_list[i]], cmap='gray')"
      ],
      "metadata": {
        "colab": {
          "base_uri": "https://localhost:8080/",
          "height": 396
        },
        "id": "Ylh9-HT81atQ",
        "outputId": "ba828449-a6b5-494f-83fe-fc2269beb043"
      },
      "execution_count": 28,
      "outputs": [
        {
          "output_type": "display_data",
          "data": {
            "text/plain": [
              "<Figure size 432x432 with 36 Axes>"
            ],
            "image/png": "[encoded data removed]"
          },
          "metadata": {}
        }
      ]
    },
    {
      "cell_type": "markdown",
      "source": [
        "### Test"
      ],
      "metadata": {
        "id": "6u_4FNfo5ONC"
      }
    },
    {
      "cell_type": "code",
      "source": [
        "def sigmoid_forwarrd(X):\n",
        "    return 1 / (1 + np.exp(-X))\n",
        "\n",
        "def tanh_forwarrd(X):\n",
        "    return np.tanh(X)\n",
        "\n",
        "def sigmoid_backward(X):\n",
        "    return (1- sigmoid_forwarrd(X)) * sigmoid_forwarrd(X)\n",
        "\n",
        "def tanh_backward(X):\n",
        "    return (1 - tanh_forwarrd(X)**2)\n",
        "\n",
        "def softmax(X):\n",
        "    return np.exp(X) / np.sum(np.exp(X), axis=1, keepdims=True)\n",
        "\n",
        "def cross_entropy(X, y):\n",
        "    batch_size = len(X)\n",
        "    delta = 1e-7\n",
        "    return -np.sum(y * np.log(X+delta)) / batch_size\n"
      ],
      "metadata": {
        "id": "5o665r2934aP"
      },
      "execution_count": 29,
      "outputs": []
    },
    {
      "cell_type": "code",
      "source": [
        "XX = np.array([[1,2],[3,4],[5,6],[7,8]])\n",
        "yy = np.array([0,1,2,3])\n",
        "\n",
        "enc = OneHotEncoder(handle_unknown='ignore', sparse=False)\n",
        "yy_one_hot = enc.fit_transform(yy[:, np.newaxis])\n",
        "    \n",
        "n_nodes1 = 3\n",
        "n_nodes2 = 2\n",
        "n_output = yy_one_hot.shape[1]\n",
        "n_features = XX.shape[1]\n",
        "\n",
        "bias1 = np.array([-20, -10, -12])\n",
        "bias2 = np.array([10, 15])\n",
        "bias3 = np.array([10, 15, -10, -5])\n",
        "\n",
        "w1 = np.array([[5, 3, 1], [4, 2, 0]])\n",
        "w2 = np.array([[-4, 3], [-6, 1], [-8, 5]])\n",
        "w3 = np.array([[-4, 3, -3, 5], [-6, 1, -2, 2]])\n",
        "\n",
        "A1 = XX @ w1 + bias1\n",
        "Z1 = sigmoid_forwarrd(A1)\n",
        "\n",
        "A2 = Z1 @ w2 + bias2\n",
        "Z2 = sigmoid_forwarrd(A2)\n",
        "\n",
        "A3 = Z2 @ w3 + bias3\n",
        "Z3 = softmax(A3)\n",
        "\n",
        "Z2.T @ (Z3 - yy_one_hot)\n",
        "\n",
        "w3 - 0.1 *(Z2.T @ (Z3 - yy_one_hot))"
      ],
      "metadata": {
        "colab": {
          "base_uri": "https://localhost:8080/"
        },
        "id": "f1kzf7h55k7k",
        "outputId": "1e0ddd39-642f-49c8-9b09-107b2e559e1b"
      },
      "execution_count": 30,
      "outputs": [
        {
          "output_type": "execute_result",
          "data": {
            "text/plain": [
              "array([[-3.90000609,  2.80152655, -2.9501822 ,  5.04866174],\n",
              "       [-5.90000009,  0.7000001 , -1.9       ,  2.09999999]])"
            ]
          },
          "metadata": {},
          "execution_count": 30
        }
      ]
    },
    {
      "cell_type": "code",
      "source": [
        "## 1st layer\n",
        "deltaA3 = Z3 - yy_one_hot\n",
        "deltaB3 = np.sum(deltaA3, axis=0)\n",
        "deltaW3 = Z2.T @ deltaA3\n",
        "deltaZ2 = deltaA3 @ w3.T\n",
        "\n",
        "## 2nd layer\n",
        "deltaA2 = deltaZ2 * sigmoid_backward(A2) \n",
        "deltaB2 = np.sum(deltaA2, axis=0)\n",
        "deltaW2 = Z1.T @ deltaA2\n",
        "deltaZ1 = deltaA2 @ w2.T\n",
        "\n",
        "## 3rd layer\n",
        "deltaA1 = deltaZ1 * sigmoid_backward(A1) \n",
        "deltaB1 = np.sum(deltaA1, axis=0)\n",
        "deltaW1 = XX.T @ deltaA1"
      ],
      "metadata": {
        "id": "-gIe61N_6Di0"
      },
      "execution_count": 31,
      "outputs": []
    },
    {
      "cell_type": "code",
      "source": [
        "print(\"1st layer\")\n",
        "print(deltaA3.shape)\n",
        "print(deltaB3.shape)\n",
        "print(deltaW3.shape)\n",
        "print(deltaZ2.shape)\n",
        "print(w3 - 0.1 * deltaW3)\n",
        "print()\n",
        "print(\"Second layer\")\n",
        "print(deltaA2.shape)\n",
        "print(deltaB2.shape)\n",
        "print(deltaW2.shape)\n",
        "print(deltaZ1.shape)\n",
        "print()\n",
        "print(\"Third layer\")\n",
        "print(deltaA1.shape)\n",
        "print(deltaB1.shape)\n",
        "print(deltaW1.shape)"
      ],
      "metadata": {
        "colab": {
          "base_uri": "https://localhost:8080/"
        },
        "id": "WdTsYmaa6HjG",
        "outputId": "9425f8f6-5690-4b6e-b89c-0f580c8b8e20"
      },
      "execution_count": 32,
      "outputs": [
        {
          "output_type": "stream",
          "name": "stdout",
          "text": [
            "1st layer\n",
            "(4, 4)\n",
            "(4,)\n",
            "(2, 4)\n",
            "(4, 2)\n",
            "[[-3.90000609  2.80152655 -2.9501822   5.04866174]\n",
            " [-5.90000009  0.7000001  -1.9         2.09999999]]\n",
            "\n",
            "Second layer\n",
            "(4, 2)\n",
            "(2,)\n",
            "(3, 2)\n",
            "(4, 3)\n",
            "\n",
            "Third layer\n",
            "(4, 3)\n",
            "(3,)\n",
            "(2, 3)\n"
          ]
        }
      ]
    }
  ]
}